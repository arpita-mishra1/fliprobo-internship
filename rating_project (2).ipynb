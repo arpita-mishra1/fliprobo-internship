{
 "cells": [
  {
   "cell_type": "markdown",
   "metadata": {},
   "source": [
    "# Importing libraries"
   ]
  },
  {
   "cell_type": "code",
   "execution_count": 30,
   "metadata": {},
   "outputs": [],
   "source": [
    "import pandas as pd\n",
    "import numpy as np\n",
    "import seaborn as sb\n",
    "import matplotlib.pyplot as plt\n",
    "import sklearn\n",
    "import warnings\n",
    "warnings.filterwarnings('ignore')"
   ]
  },
  {
   "cell_type": "code",
   "execution_count": 31,
   "metadata": {},
   "outputs": [],
   "source": [
    "df=pd.read_csv('df_final_data.csv')"
   ]
  },
  {
   "cell_type": "code",
   "execution_count": 32,
   "metadata": {},
   "outputs": [
    {
     "data": {
      "text/html": [
       "<div>\n",
       "<style scoped>\n",
       "    .dataframe tbody tr th:only-of-type {\n",
       "        vertical-align: middle;\n",
       "    }\n",
       "\n",
       "    .dataframe tbody tr th {\n",
       "        vertical-align: top;\n",
       "    }\n",
       "\n",
       "    .dataframe thead th {\n",
       "        text-align: right;\n",
       "    }\n",
       "</style>\n",
       "<table border=\"1\" class=\"dataframe\">\n",
       "  <thead>\n",
       "    <tr style=\"text-align: right;\">\n",
       "      <th></th>\n",
       "      <th>Unnamed: 0</th>\n",
       "      <th>Number of Stars</th>\n",
       "      <th>Full Review</th>\n",
       "    </tr>\n",
       "  </thead>\n",
       "  <tbody>\n",
       "    <tr>\n",
       "      <th>0</th>\n",
       "      <td>0</td>\n",
       "      <td>1</td>\n",
       "      <td>Battery problam no bakap</td>\n",
       "    </tr>\n",
       "    <tr>\n",
       "      <th>1</th>\n",
       "      <td>1</td>\n",
       "      <td>5</td>\n",
       "      <td>very very best product and combo pack .super s...</td>\n",
       "    </tr>\n",
       "    <tr>\n",
       "      <th>2</th>\n",
       "      <td>2</td>\n",
       "      <td>5</td>\n",
       "      <td>superrrrrrr mobiles awesome i kall you now its...</td>\n",
       "    </tr>\n",
       "    <tr>\n",
       "      <th>3</th>\n",
       "      <td>3</td>\n",
       "      <td>1</td>\n",
       "      <td>key quality not good type 9 or input tuch # so...</td>\n",
       "    </tr>\n",
       "    <tr>\n",
       "      <th>4</th>\n",
       "      <td>4</td>\n",
       "      <td>1</td>\n",
       "      <td>Not nice in battery switch off any time to s</td>\n",
       "    </tr>\n",
       "  </tbody>\n",
       "</table>\n",
       "</div>"
      ],
      "text/plain": [
       "   Unnamed: 0  Number of Stars  \\\n",
       "0           0                1   \n",
       "1           1                5   \n",
       "2           2                5   \n",
       "3           3                1   \n",
       "4           4                1   \n",
       "\n",
       "                                         Full Review  \n",
       "0                           Battery problam no bakap  \n",
       "1  very very best product and combo pack .super s...  \n",
       "2  superrrrrrr mobiles awesome i kall you now its...  \n",
       "3  key quality not good type 9 or input tuch # so...  \n",
       "4       Not nice in battery switch off any time to s  "
      ]
     },
     "execution_count": 32,
     "metadata": {},
     "output_type": "execute_result"
    }
   ],
   "source": [
    "df.head()"
   ]
  },
  {
   "cell_type": "code",
   "execution_count": 33,
   "metadata": {},
   "outputs": [
    {
     "data": {
      "text/plain": [
       "(20370, 3)"
      ]
     },
     "execution_count": 33,
     "metadata": {},
     "output_type": "execute_result"
    }
   ],
   "source": [
    "df.shape"
   ]
  },
  {
   "cell_type": "code",
   "execution_count": 34,
   "metadata": {},
   "outputs": [
    {
     "data": {
      "text/plain": [
       "5    11920\n",
       "4     4124\n",
       "1     2227\n",
       "3     1744\n",
       "2      355\n",
       "Name: Number of Stars, dtype: int64"
      ]
     },
     "execution_count": 34,
     "metadata": {},
     "output_type": "execute_result"
    }
   ],
   "source": [
    "df['Number of Stars'].value_counts()"
   ]
  },
  {
   "cell_type": "code",
   "execution_count": 35,
   "metadata": {},
   "outputs": [
    {
     "data": {
      "text/plain": [
       "Index(['Unnamed: 0', 'Number of Stars', 'Full Review'], dtype='object')"
      ]
     },
     "execution_count": 35,
     "metadata": {},
     "output_type": "execute_result"
    }
   ],
   "source": [
    "df.columns"
   ]
  },
  {
   "cell_type": "code",
   "execution_count": 36,
   "metadata": {},
   "outputs": [],
   "source": [
    "import re\n",
    "import string"
   ]
  },
  {
   "cell_type": "markdown",
   "metadata": {},
   "source": [
    "# Data Preprocessing"
   ]
  },
  {
   "cell_type": "code",
   "execution_count": 37,
   "metadata": {},
   "outputs": [],
   "source": [
    "#to clean the data by lowering the text,removing unnecessary punctuations,numbers/digits etc\n",
    "\n",
    "\n",
    "def text_clean_1(text):\n",
    "    text=text.lower()\n",
    "    text=re.sub('\\[.*?#]','',text)\n",
    "    text=re.sub('[%s]'%re.escape(string.punctuation),'',text)\n",
    "    text=re.sub('\\w*\\d\\w*','',text)\n",
    "    return text"
   ]
  },
  {
   "cell_type": "code",
   "execution_count": 38,
   "metadata": {},
   "outputs": [],
   "source": [
    "cleaned1=lambda x:text_clean_1(x)"
   ]
  },
  {
   "cell_type": "code",
   "execution_count": 39,
   "metadata": {},
   "outputs": [],
   "source": [
    "df['cleaned_FullReview']=pd.DataFrame(df['Full Review'].apply(cleaned1))"
   ]
  },
  {
   "cell_type": "code",
   "execution_count": 40,
   "metadata": {},
   "outputs": [
    {
     "data": {
      "text/html": [
       "<div>\n",
       "<style scoped>\n",
       "    .dataframe tbody tr th:only-of-type {\n",
       "        vertical-align: middle;\n",
       "    }\n",
       "\n",
       "    .dataframe tbody tr th {\n",
       "        vertical-align: top;\n",
       "    }\n",
       "\n",
       "    .dataframe thead th {\n",
       "        text-align: right;\n",
       "    }\n",
       "</style>\n",
       "<table border=\"1\" class=\"dataframe\">\n",
       "  <thead>\n",
       "    <tr style=\"text-align: right;\">\n",
       "      <th></th>\n",
       "      <th>Unnamed: 0</th>\n",
       "      <th>Number of Stars</th>\n",
       "      <th>Full Review</th>\n",
       "      <th>cleaned_FullReview</th>\n",
       "    </tr>\n",
       "  </thead>\n",
       "  <tbody>\n",
       "    <tr>\n",
       "      <th>0</th>\n",
       "      <td>0</td>\n",
       "      <td>1</td>\n",
       "      <td>Battery problam no bakap</td>\n",
       "      <td>battery problam no bakap</td>\n",
       "    </tr>\n",
       "    <tr>\n",
       "      <th>1</th>\n",
       "      <td>1</td>\n",
       "      <td>5</td>\n",
       "      <td>very very best product and combo pack .super s...</td>\n",
       "      <td>very very best product and combo pack super sa...</td>\n",
       "    </tr>\n",
       "    <tr>\n",
       "      <th>2</th>\n",
       "      <td>2</td>\n",
       "      <td>5</td>\n",
       "      <td>superrrrrrr mobiles awesome i kall you now its...</td>\n",
       "      <td>superrrrrrr mobiles awesome i kall you now its...</td>\n",
       "    </tr>\n",
       "    <tr>\n",
       "      <th>3</th>\n",
       "      <td>3</td>\n",
       "      <td>1</td>\n",
       "      <td>key quality not good type 9 or input tuch # so...</td>\n",
       "      <td>key quality not good type  or input tuch  so b...</td>\n",
       "    </tr>\n",
       "    <tr>\n",
       "      <th>4</th>\n",
       "      <td>4</td>\n",
       "      <td>1</td>\n",
       "      <td>Not nice in battery switch off any time to s</td>\n",
       "      <td>not nice in battery switch off any time to s</td>\n",
       "    </tr>\n",
       "    <tr>\n",
       "      <th>5</th>\n",
       "      <td>5</td>\n",
       "      <td>5</td>\n",
       "      <td>nice product</td>\n",
       "      <td>nice product</td>\n",
       "    </tr>\n",
       "    <tr>\n",
       "      <th>6</th>\n",
       "      <td>6</td>\n",
       "      <td>1</td>\n",
       "      <td>Not good battery\\nAnd no good speaker</td>\n",
       "      <td>not good battery\\nand no good speaker</td>\n",
       "    </tr>\n",
       "    <tr>\n",
       "      <th>7</th>\n",
       "      <td>7</td>\n",
       "      <td>4</td>\n",
       "      <td>good</td>\n",
       "      <td>good</td>\n",
       "    </tr>\n",
       "    <tr>\n",
       "      <th>8</th>\n",
       "      <td>8</td>\n",
       "      <td>4</td>\n",
       "      <td>Great Product. Roughly use verry well.</td>\n",
       "      <td>great product roughly use verry well</td>\n",
       "    </tr>\n",
       "    <tr>\n",
       "      <th>9</th>\n",
       "      <td>9</td>\n",
       "      <td>3</td>\n",
       "      <td>Phone is good but button is coming out fevikwi...</td>\n",
       "      <td>phone is good but button is coming out fevikwi...</td>\n",
       "    </tr>\n",
       "  </tbody>\n",
       "</table>\n",
       "</div>"
      ],
      "text/plain": [
       "   Unnamed: 0  Number of Stars  \\\n",
       "0           0                1   \n",
       "1           1                5   \n",
       "2           2                5   \n",
       "3           3                1   \n",
       "4           4                1   \n",
       "5           5                5   \n",
       "6           6                1   \n",
       "7           7                4   \n",
       "8           8                4   \n",
       "9           9                3   \n",
       "\n",
       "                                         Full Review  \\\n",
       "0                           Battery problam no bakap   \n",
       "1  very very best product and combo pack .super s...   \n",
       "2  superrrrrrr mobiles awesome i kall you now its...   \n",
       "3  key quality not good type 9 or input tuch # so...   \n",
       "4       Not nice in battery switch off any time to s   \n",
       "5                                       nice product   \n",
       "6              Not good battery\\nAnd no good speaker   \n",
       "7                                               good   \n",
       "8             Great Product. Roughly use verry well.   \n",
       "9  Phone is good but button is coming out fevikwi...   \n",
       "\n",
       "                                  cleaned_FullReview  \n",
       "0                           battery problam no bakap  \n",
       "1  very very best product and combo pack super sa...  \n",
       "2  superrrrrrr mobiles awesome i kall you now its...  \n",
       "3  key quality not good type  or input tuch  so b...  \n",
       "4       not nice in battery switch off any time to s  \n",
       "5                                       nice product  \n",
       "6              not good battery\\nand no good speaker  \n",
       "7                                               good  \n",
       "8               great product roughly use verry well  \n",
       "9  phone is good but button is coming out fevikwi...  "
      ]
     },
     "execution_count": 40,
     "metadata": {},
     "output_type": "execute_result"
    }
   ],
   "source": [
    "df.head(10)"
   ]
  },
  {
   "cell_type": "code",
   "execution_count": 41,
   "metadata": {},
   "outputs": [
    {
     "data": {
      "text/html": [
       "<div>\n",
       "<style scoped>\n",
       "    .dataframe tbody tr th:only-of-type {\n",
       "        vertical-align: middle;\n",
       "    }\n",
       "\n",
       "    .dataframe tbody tr th {\n",
       "        vertical-align: top;\n",
       "    }\n",
       "\n",
       "    .dataframe thead th {\n",
       "        text-align: right;\n",
       "    }\n",
       "</style>\n",
       "<table border=\"1\" class=\"dataframe\">\n",
       "  <thead>\n",
       "    <tr style=\"text-align: right;\">\n",
       "      <th></th>\n",
       "      <th>Unnamed: 0</th>\n",
       "      <th>Number of Stars</th>\n",
       "      <th>Full Review</th>\n",
       "      <th>cleaned_FullReview</th>\n",
       "    </tr>\n",
       "  </thead>\n",
       "  <tbody>\n",
       "    <tr>\n",
       "      <th>20350</th>\n",
       "      <td>5150</td>\n",
       "      <td>4</td>\n",
       "      <td>Very good product everything is fine camera is...</td>\n",
       "      <td>very good product everything is fine camera is...</td>\n",
       "    </tr>\n",
       "    <tr>\n",
       "      <th>20351</th>\n",
       "      <td>5151</td>\n",
       "      <td>4</td>\n",
       "      <td>Hi guys I here give u a complete review of thi...</td>\n",
       "      <td>hi guys i here give u a complete review of thi...</td>\n",
       "    </tr>\n",
       "    <tr>\n",
       "      <th>20352</th>\n",
       "      <td>5152</td>\n",
       "      <td>3</td>\n",
       "      <td>Based on the usage for about 3 weeks, I am wri...</td>\n",
       "      <td>based on the usage for about  weeks i am writi...</td>\n",
       "    </tr>\n",
       "    <tr>\n",
       "      <th>20353</th>\n",
       "      <td>5153</td>\n",
       "      <td>5</td>\n",
       "      <td>Love this phone😍😍😍 I bought this for my maa as...</td>\n",
       "      <td>love this phone😍😍😍 i bought this for my maa as...</td>\n",
       "    </tr>\n",
       "    <tr>\n",
       "      <th>20354</th>\n",
       "      <td>5154</td>\n",
       "      <td>3</td>\n",
       "      <td>Good phone. Budget friendly.\\nBest in this bud...</td>\n",
       "      <td>good phone budget friendly\\nbest in this budge...</td>\n",
       "    </tr>\n",
       "    <tr>\n",
       "      <th>20355</th>\n",
       "      <td>5155</td>\n",
       "      <td>4</td>\n",
       "      <td>Nice product fits in your budget segment.\\n1) ...</td>\n",
       "      <td>nice product fits in your budget segment\\n bat...</td>\n",
       "    </tr>\n",
       "    <tr>\n",
       "      <th>20356</th>\n",
       "      <td>5156</td>\n",
       "      <td>5</td>\n",
       "      <td>Camera- Average but works fine. Back camera is...</td>\n",
       "      <td>camera average but works fine back camera is g...</td>\n",
       "    </tr>\n",
       "    <tr>\n",
       "      <th>20357</th>\n",
       "      <td>5157</td>\n",
       "      <td>4</td>\n",
       "      <td>Perfect phone\\n1. Amezing camera\\n2. Good perf...</td>\n",
       "      <td>perfect phone\\n amezing camera\\n good performa...</td>\n",
       "    </tr>\n",
       "    <tr>\n",
       "      <th>20358</th>\n",
       "      <td>5158</td>\n",
       "      <td>5</td>\n",
       "      <td>Good quality of screen. Camera is average. Bat...</td>\n",
       "      <td>good quality of screen camera is average batte...</td>\n",
       "    </tr>\n",
       "    <tr>\n",
       "      <th>20359</th>\n",
       "      <td>5159</td>\n",
       "      <td>5</td>\n",
       "      <td>Best mobile in this price range. Camera would ...</td>\n",
       "      <td>best mobile in this price range camera would b...</td>\n",
       "    </tr>\n",
       "    <tr>\n",
       "      <th>20360</th>\n",
       "      <td>5160</td>\n",
       "      <td>5</td>\n",
       "      <td>Thankyou Redmi,\\n\\nFeeling Lucky to buy this p...</td>\n",
       "      <td>thankyou redmi\\n\\nfeeling lucky to buy this pr...</td>\n",
       "    </tr>\n",
       "    <tr>\n",
       "      <th>20361</th>\n",
       "      <td>5161</td>\n",
       "      <td>4</td>\n",
       "      <td>Good mobile ...I loved it and Thank you flipka...</td>\n",
       "      <td>good mobile i loved it and thank you flipkart ...</td>\n",
       "    </tr>\n",
       "    <tr>\n",
       "      <th>20362</th>\n",
       "      <td>5162</td>\n",
       "      <td>5</td>\n",
       "      <td>It is an good phone ever i see, but it have on...</td>\n",
       "      <td>it is an good phone ever i see but it have onl...</td>\n",
       "    </tr>\n",
       "    <tr>\n",
       "      <th>20363</th>\n",
       "      <td>5163</td>\n",
       "      <td>5</td>\n",
       "      <td>Nice very super product and nice performance\\n...</td>\n",
       "      <td>nice very super product and nice performance\\n...</td>\n",
       "    </tr>\n",
       "    <tr>\n",
       "      <th>20364</th>\n",
       "      <td>5164</td>\n",
       "      <td>3</td>\n",
       "      <td>Writing this review after 4 months of purchase...</td>\n",
       "      <td>writing this review after  months of purchase ...</td>\n",
       "    </tr>\n",
       "    <tr>\n",
       "      <th>20365</th>\n",
       "      <td>5165</td>\n",
       "      <td>5</td>\n",
       "      <td>To be completely honest this is not the best p...</td>\n",
       "      <td>to be completely honest this is not the best p...</td>\n",
       "    </tr>\n",
       "    <tr>\n",
       "      <th>20366</th>\n",
       "      <td>5166</td>\n",
       "      <td>5</td>\n",
       "      <td>Mi 9i is good no loss it is very good mobile a...</td>\n",
       "      <td>mi  is good no loss it is very good mobile any...</td>\n",
       "    </tr>\n",
       "    <tr>\n",
       "      <th>20367</th>\n",
       "      <td>5167</td>\n",
       "      <td>5</td>\n",
       "      <td>Nice mobile, good battery backup, camera satis...</td>\n",
       "      <td>nice mobile good battery backup camera satisfa...</td>\n",
       "    </tr>\n",
       "    <tr>\n",
       "      <th>20368</th>\n",
       "      <td>5168</td>\n",
       "      <td>4</td>\n",
       "      <td>I've bought this for my parents, overall phone...</td>\n",
       "      <td>ive bought this for my parents overall phone i...</td>\n",
       "    </tr>\n",
       "    <tr>\n",
       "      <th>20369</th>\n",
       "      <td>5169</td>\n",
       "      <td>5</td>\n",
       "      <td>Very good mobile. I love thish phone. Really g...</td>\n",
       "      <td>very good mobile i love thish phone really goo...</td>\n",
       "    </tr>\n",
       "  </tbody>\n",
       "</table>\n",
       "</div>"
      ],
      "text/plain": [
       "       Unnamed: 0  Number of Stars  \\\n",
       "20350        5150                4   \n",
       "20351        5151                4   \n",
       "20352        5152                3   \n",
       "20353        5153                5   \n",
       "20354        5154                3   \n",
       "20355        5155                4   \n",
       "20356        5156                5   \n",
       "20357        5157                4   \n",
       "20358        5158                5   \n",
       "20359        5159                5   \n",
       "20360        5160                5   \n",
       "20361        5161                4   \n",
       "20362        5162                5   \n",
       "20363        5163                5   \n",
       "20364        5164                3   \n",
       "20365        5165                5   \n",
       "20366        5166                5   \n",
       "20367        5167                5   \n",
       "20368        5168                4   \n",
       "20369        5169                5   \n",
       "\n",
       "                                             Full Review  \\\n",
       "20350  Very good product everything is fine camera is...   \n",
       "20351  Hi guys I here give u a complete review of thi...   \n",
       "20352  Based on the usage for about 3 weeks, I am wri...   \n",
       "20353  Love this phone😍😍😍 I bought this for my maa as...   \n",
       "20354  Good phone. Budget friendly.\\nBest in this bud...   \n",
       "20355  Nice product fits in your budget segment.\\n1) ...   \n",
       "20356  Camera- Average but works fine. Back camera is...   \n",
       "20357  Perfect phone\\n1. Amezing camera\\n2. Good perf...   \n",
       "20358  Good quality of screen. Camera is average. Bat...   \n",
       "20359  Best mobile in this price range. Camera would ...   \n",
       "20360  Thankyou Redmi,\\n\\nFeeling Lucky to buy this p...   \n",
       "20361  Good mobile ...I loved it and Thank you flipka...   \n",
       "20362  It is an good phone ever i see, but it have on...   \n",
       "20363  Nice very super product and nice performance\\n...   \n",
       "20364  Writing this review after 4 months of purchase...   \n",
       "20365  To be completely honest this is not the best p...   \n",
       "20366  Mi 9i is good no loss it is very good mobile a...   \n",
       "20367  Nice mobile, good battery backup, camera satis...   \n",
       "20368  I've bought this for my parents, overall phone...   \n",
       "20369  Very good mobile. I love thish phone. Really g...   \n",
       "\n",
       "                                      cleaned_FullReview  \n",
       "20350  very good product everything is fine camera is...  \n",
       "20351  hi guys i here give u a complete review of thi...  \n",
       "20352  based on the usage for about  weeks i am writi...  \n",
       "20353  love this phone😍😍😍 i bought this for my maa as...  \n",
       "20354  good phone budget friendly\\nbest in this budge...  \n",
       "20355  nice product fits in your budget segment\\n bat...  \n",
       "20356  camera average but works fine back camera is g...  \n",
       "20357  perfect phone\\n amezing camera\\n good performa...  \n",
       "20358  good quality of screen camera is average batte...  \n",
       "20359  best mobile in this price range camera would b...  \n",
       "20360  thankyou redmi\\n\\nfeeling lucky to buy this pr...  \n",
       "20361  good mobile i loved it and thank you flipkart ...  \n",
       "20362  it is an good phone ever i see but it have onl...  \n",
       "20363  nice very super product and nice performance\\n...  \n",
       "20364  writing this review after  months of purchase ...  \n",
       "20365  to be completely honest this is not the best p...  \n",
       "20366  mi  is good no loss it is very good mobile any...  \n",
       "20367  nice mobile good battery backup camera satisfa...  \n",
       "20368  ive bought this for my parents overall phone i...  \n",
       "20369  very good mobile i love thish phone really goo...  "
      ]
     },
     "execution_count": 41,
     "metadata": {},
     "output_type": "execute_result"
    }
   ],
   "source": [
    "df.tail(20)"
   ]
  },
  {
   "cell_type": "markdown",
   "metadata": {},
   "source": [
    "First round of cleaning removed the punctuations, extra spaces,etc.However we could see some emojis which will be removed in the next phase"
   ]
  },
  {
   "cell_type": "code",
   "execution_count": 44,
   "metadata": {},
   "outputs": [
    {
     "name": "stdout",
     "output_type": "stream",
     "text": [
      "Collecting emoji\n",
      "  Downloading emoji-1.4.2.tar.gz (184 kB)\n",
      "Building wheels for collected packages: emoji\n",
      "  Building wheel for emoji (setup.py): started\n",
      "  Building wheel for emoji (setup.py): finished with status 'done'\n",
      "  Created wheel for emoji: filename=emoji-1.4.2-py3-none-any.whl size=186457 sha256=78c4272651b9f8bdcc2aecaeaaf75e036ccc101d7f8d6ddc070fcb633f184cd4\n",
      "  Stored in directory: c:\\users\\a\\appdata\\local\\pip\\cache\\wheels\\71\\4d\\3c\\cada364d4ea0026deee7208dee1e61bcebd20aa2ae5dc154ba\n",
      "Successfully built emoji\n",
      "Installing collected packages: emoji\n",
      "Successfully installed emoji-1.4.2\n"
     ]
    }
   ],
   "source": [
    "!pip install emoji\n",
    "import emoji"
   ]
  },
  {
   "cell_type": "markdown",
   "metadata": {},
   "source": [
    "# Removing Emojis"
   ]
  },
  {
   "cell_type": "code",
   "execution_count": 45,
   "metadata": {},
   "outputs": [],
   "source": [
    "def text_clean_2(text):\n",
    "    text=re.sub('\\n','',text)\n",
    "    text=re.sub(emoji.get_emoji_regexp(),r'',text)\n",
    "    return text\n",
    "cleaned2=lambda x:text_clean_2(x)\n",
    "\n",
    "df['cleaned_review_final']=pd.DataFrame(df['cleaned_FullReview'].apply(cleaned2))"
   ]
  },
  {
   "cell_type": "code",
   "execution_count": 46,
   "metadata": {},
   "outputs": [
    {
     "data": {
      "text/html": [
       "<div>\n",
       "<style scoped>\n",
       "    .dataframe tbody tr th:only-of-type {\n",
       "        vertical-align: middle;\n",
       "    }\n",
       "\n",
       "    .dataframe tbody tr th {\n",
       "        vertical-align: top;\n",
       "    }\n",
       "\n",
       "    .dataframe thead th {\n",
       "        text-align: right;\n",
       "    }\n",
       "</style>\n",
       "<table border=\"1\" class=\"dataframe\">\n",
       "  <thead>\n",
       "    <tr style=\"text-align: right;\">\n",
       "      <th></th>\n",
       "      <th>Unnamed: 0</th>\n",
       "      <th>Number of Stars</th>\n",
       "      <th>Full Review</th>\n",
       "      <th>cleaned_FullReview</th>\n",
       "      <th>cleaned_review_final</th>\n",
       "    </tr>\n",
       "  </thead>\n",
       "  <tbody>\n",
       "    <tr>\n",
       "      <th>0</th>\n",
       "      <td>0</td>\n",
       "      <td>1</td>\n",
       "      <td>Battery problam no bakap</td>\n",
       "      <td>battery problam no bakap</td>\n",
       "      <td>battery problam no bakap</td>\n",
       "    </tr>\n",
       "    <tr>\n",
       "      <th>1</th>\n",
       "      <td>1</td>\n",
       "      <td>5</td>\n",
       "      <td>very very best product and combo pack .super s...</td>\n",
       "      <td>very very best product and combo pack super sa...</td>\n",
       "      <td>very very best product and combo pack super sa...</td>\n",
       "    </tr>\n",
       "    <tr>\n",
       "      <th>2</th>\n",
       "      <td>2</td>\n",
       "      <td>5</td>\n",
       "      <td>superrrrrrr mobiles awesome i kall you now its...</td>\n",
       "      <td>superrrrrrr mobiles awesome i kall you now its...</td>\n",
       "      <td>superrrrrrr mobiles awesome i kall you now its...</td>\n",
       "    </tr>\n",
       "    <tr>\n",
       "      <th>3</th>\n",
       "      <td>3</td>\n",
       "      <td>1</td>\n",
       "      <td>key quality not good type 9 or input tuch # so...</td>\n",
       "      <td>key quality not good type  or input tuch  so b...</td>\n",
       "      <td>key quality not good type  or input tuch  so b...</td>\n",
       "    </tr>\n",
       "    <tr>\n",
       "      <th>4</th>\n",
       "      <td>4</td>\n",
       "      <td>1</td>\n",
       "      <td>Not nice in battery switch off any time to s</td>\n",
       "      <td>not nice in battery switch off any time to s</td>\n",
       "      <td>not nice in battery switch off any time to s</td>\n",
       "    </tr>\n",
       "    <tr>\n",
       "      <th>...</th>\n",
       "      <td>...</td>\n",
       "      <td>...</td>\n",
       "      <td>...</td>\n",
       "      <td>...</td>\n",
       "      <td>...</td>\n",
       "    </tr>\n",
       "    <tr>\n",
       "      <th>20365</th>\n",
       "      <td>5165</td>\n",
       "      <td>5</td>\n",
       "      <td>To be completely honest this is not the best p...</td>\n",
       "      <td>to be completely honest this is not the best p...</td>\n",
       "      <td>to be completely honest this is not the best p...</td>\n",
       "    </tr>\n",
       "    <tr>\n",
       "      <th>20366</th>\n",
       "      <td>5166</td>\n",
       "      <td>5</td>\n",
       "      <td>Mi 9i is good no loss it is very good mobile a...</td>\n",
       "      <td>mi  is good no loss it is very good mobile any...</td>\n",
       "      <td>mi  is good no loss it is very good mobile any...</td>\n",
       "    </tr>\n",
       "    <tr>\n",
       "      <th>20367</th>\n",
       "      <td>5167</td>\n",
       "      <td>5</td>\n",
       "      <td>Nice mobile, good battery backup, camera satis...</td>\n",
       "      <td>nice mobile good battery backup camera satisfa...</td>\n",
       "      <td>nice mobile good battery backup camera satisfa...</td>\n",
       "    </tr>\n",
       "    <tr>\n",
       "      <th>20368</th>\n",
       "      <td>5168</td>\n",
       "      <td>4</td>\n",
       "      <td>I've bought this for my parents, overall phone...</td>\n",
       "      <td>ive bought this for my parents overall phone i...</td>\n",
       "      <td>ive bought this for my parents overall phone i...</td>\n",
       "    </tr>\n",
       "    <tr>\n",
       "      <th>20369</th>\n",
       "      <td>5169</td>\n",
       "      <td>5</td>\n",
       "      <td>Very good mobile. I love thish phone. Really g...</td>\n",
       "      <td>very good mobile i love thish phone really goo...</td>\n",
       "      <td>very good mobile i love thish phone really goo...</td>\n",
       "    </tr>\n",
       "  </tbody>\n",
       "</table>\n",
       "<p>20370 rows × 5 columns</p>\n",
       "</div>"
      ],
      "text/plain": [
       "       Unnamed: 0  Number of Stars  \\\n",
       "0               0                1   \n",
       "1               1                5   \n",
       "2               2                5   \n",
       "3               3                1   \n",
       "4               4                1   \n",
       "...           ...              ...   \n",
       "20365        5165                5   \n",
       "20366        5166                5   \n",
       "20367        5167                5   \n",
       "20368        5168                4   \n",
       "20369        5169                5   \n",
       "\n",
       "                                             Full Review  \\\n",
       "0                               Battery problam no bakap   \n",
       "1      very very best product and combo pack .super s...   \n",
       "2      superrrrrrr mobiles awesome i kall you now its...   \n",
       "3      key quality not good type 9 or input tuch # so...   \n",
       "4           Not nice in battery switch off any time to s   \n",
       "...                                                  ...   \n",
       "20365  To be completely honest this is not the best p...   \n",
       "20366  Mi 9i is good no loss it is very good mobile a...   \n",
       "20367  Nice mobile, good battery backup, camera satis...   \n",
       "20368  I've bought this for my parents, overall phone...   \n",
       "20369  Very good mobile. I love thish phone. Really g...   \n",
       "\n",
       "                                      cleaned_FullReview  \\\n",
       "0                               battery problam no bakap   \n",
       "1      very very best product and combo pack super sa...   \n",
       "2      superrrrrrr mobiles awesome i kall you now its...   \n",
       "3      key quality not good type  or input tuch  so b...   \n",
       "4           not nice in battery switch off any time to s   \n",
       "...                                                  ...   \n",
       "20365  to be completely honest this is not the best p...   \n",
       "20366  mi  is good no loss it is very good mobile any...   \n",
       "20367  nice mobile good battery backup camera satisfa...   \n",
       "20368  ive bought this for my parents overall phone i...   \n",
       "20369  very good mobile i love thish phone really goo...   \n",
       "\n",
       "                                    cleaned_review_final  \n",
       "0                               battery problam no bakap  \n",
       "1      very very best product and combo pack super sa...  \n",
       "2      superrrrrrr mobiles awesome i kall you now its...  \n",
       "3      key quality not good type  or input tuch  so b...  \n",
       "4           not nice in battery switch off any time to s  \n",
       "...                                                  ...  \n",
       "20365  to be completely honest this is not the best p...  \n",
       "20366  mi  is good no loss it is very good mobile any...  \n",
       "20367  nice mobile good battery backup camera satisfa...  \n",
       "20368  ive bought this for my parents overall phone i...  \n",
       "20369  very good mobile i love thish phone really goo...  \n",
       "\n",
       "[20370 rows x 5 columns]"
      ]
     },
     "execution_count": 46,
     "metadata": {},
     "output_type": "execute_result"
    }
   ],
   "source": [
    "df "
   ]
  },
  {
   "cell_type": "code",
   "execution_count": 48,
   "metadata": {},
   "outputs": [
    {
     "data": {
      "text/html": [
       "<div>\n",
       "<style scoped>\n",
       "    .dataframe tbody tr th:only-of-type {\n",
       "        vertical-align: middle;\n",
       "    }\n",
       "\n",
       "    .dataframe tbody tr th {\n",
       "        vertical-align: top;\n",
       "    }\n",
       "\n",
       "    .dataframe thead th {\n",
       "        text-align: right;\n",
       "    }\n",
       "</style>\n",
       "<table border=\"1\" class=\"dataframe\">\n",
       "  <thead>\n",
       "    <tr style=\"text-align: right;\">\n",
       "      <th></th>\n",
       "      <th>Unnamed: 0</th>\n",
       "      <th>Number of Stars</th>\n",
       "      <th>Full Review</th>\n",
       "      <th>cleaned_FullReview</th>\n",
       "      <th>cleaned_review_final</th>\n",
       "    </tr>\n",
       "  </thead>\n",
       "  <tbody>\n",
       "    <tr>\n",
       "      <th>20350</th>\n",
       "      <td>5150</td>\n",
       "      <td>4</td>\n",
       "      <td>Very good product everything is fine camera is...</td>\n",
       "      <td>very good product everything is fine camera is...</td>\n",
       "      <td>very good product everything is fine camera is...</td>\n",
       "    </tr>\n",
       "    <tr>\n",
       "      <th>20351</th>\n",
       "      <td>5151</td>\n",
       "      <td>4</td>\n",
       "      <td>Hi guys I here give u a complete review of thi...</td>\n",
       "      <td>hi guys i here give u a complete review of thi...</td>\n",
       "      <td>hi guys i here give u a complete review of thi...</td>\n",
       "    </tr>\n",
       "    <tr>\n",
       "      <th>20352</th>\n",
       "      <td>5152</td>\n",
       "      <td>3</td>\n",
       "      <td>Based on the usage for about 3 weeks, I am wri...</td>\n",
       "      <td>based on the usage for about  weeks i am writi...</td>\n",
       "      <td>based on the usage for about  weeks i am writi...</td>\n",
       "    </tr>\n",
       "    <tr>\n",
       "      <th>20353</th>\n",
       "      <td>5153</td>\n",
       "      <td>5</td>\n",
       "      <td>Love this phone😍😍😍 I bought this for my maa as...</td>\n",
       "      <td>love this phone😍😍😍 i bought this for my maa as...</td>\n",
       "      <td>love this phone i bought this for my maa as a ...</td>\n",
       "    </tr>\n",
       "    <tr>\n",
       "      <th>20354</th>\n",
       "      <td>5154</td>\n",
       "      <td>3</td>\n",
       "      <td>Good phone. Budget friendly.\\nBest in this bud...</td>\n",
       "      <td>good phone budget friendly\\nbest in this budge...</td>\n",
       "      <td>good phone budget friendlybest in this budgetd...</td>\n",
       "    </tr>\n",
       "    <tr>\n",
       "      <th>20355</th>\n",
       "      <td>5155</td>\n",
       "      <td>4</td>\n",
       "      <td>Nice product fits in your budget segment.\\n1) ...</td>\n",
       "      <td>nice product fits in your budget segment\\n bat...</td>\n",
       "      <td>nice product fits in your budget segment batte...</td>\n",
       "    </tr>\n",
       "    <tr>\n",
       "      <th>20356</th>\n",
       "      <td>5156</td>\n",
       "      <td>5</td>\n",
       "      <td>Camera- Average but works fine. Back camera is...</td>\n",
       "      <td>camera average but works fine back camera is g...</td>\n",
       "      <td>camera average but works fine back camera is g...</td>\n",
       "    </tr>\n",
       "    <tr>\n",
       "      <th>20357</th>\n",
       "      <td>5157</td>\n",
       "      <td>4</td>\n",
       "      <td>Perfect phone\\n1. Amezing camera\\n2. Good perf...</td>\n",
       "      <td>perfect phone\\n amezing camera\\n good performa...</td>\n",
       "      <td>perfect phone amezing camera good performance ...</td>\n",
       "    </tr>\n",
       "    <tr>\n",
       "      <th>20358</th>\n",
       "      <td>5158</td>\n",
       "      <td>5</td>\n",
       "      <td>Good quality of screen. Camera is average. Bat...</td>\n",
       "      <td>good quality of screen camera is average batte...</td>\n",
       "      <td>good quality of screen camera is average batte...</td>\n",
       "    </tr>\n",
       "    <tr>\n",
       "      <th>20359</th>\n",
       "      <td>5159</td>\n",
       "      <td>5</td>\n",
       "      <td>Best mobile in this price range. Camera would ...</td>\n",
       "      <td>best mobile in this price range camera would b...</td>\n",
       "      <td>best mobile in this price range camera would b...</td>\n",
       "    </tr>\n",
       "    <tr>\n",
       "      <th>20360</th>\n",
       "      <td>5160</td>\n",
       "      <td>5</td>\n",
       "      <td>Thankyou Redmi,\\n\\nFeeling Lucky to buy this p...</td>\n",
       "      <td>thankyou redmi\\n\\nfeeling lucky to buy this pr...</td>\n",
       "      <td>thankyou redmifeeling lucky to buy this produc...</td>\n",
       "    </tr>\n",
       "    <tr>\n",
       "      <th>20361</th>\n",
       "      <td>5161</td>\n",
       "      <td>4</td>\n",
       "      <td>Good mobile ...I loved it and Thank you flipka...</td>\n",
       "      <td>good mobile i loved it and thank you flipkart ...</td>\n",
       "      <td>good mobile i loved it and thank you flipkart ...</td>\n",
       "    </tr>\n",
       "    <tr>\n",
       "      <th>20362</th>\n",
       "      <td>5162</td>\n",
       "      <td>5</td>\n",
       "      <td>It is an good phone ever i see, but it have on...</td>\n",
       "      <td>it is an good phone ever i see but it have onl...</td>\n",
       "      <td>it is an good phone ever i see but it have onl...</td>\n",
       "    </tr>\n",
       "    <tr>\n",
       "      <th>20363</th>\n",
       "      <td>5163</td>\n",
       "      <td>5</td>\n",
       "      <td>Nice very super product and nice performance\\n...</td>\n",
       "      <td>nice very super product and nice performance\\n...</td>\n",
       "      <td>nice very super product and nice performanceba...</td>\n",
       "    </tr>\n",
       "    <tr>\n",
       "      <th>20364</th>\n",
       "      <td>5164</td>\n",
       "      <td>3</td>\n",
       "      <td>Writing this review after 4 months of purchase...</td>\n",
       "      <td>writing this review after  months of purchase ...</td>\n",
       "      <td>writing this review after  months of purchase ...</td>\n",
       "    </tr>\n",
       "    <tr>\n",
       "      <th>20365</th>\n",
       "      <td>5165</td>\n",
       "      <td>5</td>\n",
       "      <td>To be completely honest this is not the best p...</td>\n",
       "      <td>to be completely honest this is not the best p...</td>\n",
       "      <td>to be completely honest this is not the best p...</td>\n",
       "    </tr>\n",
       "    <tr>\n",
       "      <th>20366</th>\n",
       "      <td>5166</td>\n",
       "      <td>5</td>\n",
       "      <td>Mi 9i is good no loss it is very good mobile a...</td>\n",
       "      <td>mi  is good no loss it is very good mobile any...</td>\n",
       "      <td>mi  is good no loss it is very good mobile any...</td>\n",
       "    </tr>\n",
       "    <tr>\n",
       "      <th>20367</th>\n",
       "      <td>5167</td>\n",
       "      <td>5</td>\n",
       "      <td>Nice mobile, good battery backup, camera satis...</td>\n",
       "      <td>nice mobile good battery backup camera satisfa...</td>\n",
       "      <td>nice mobile good battery backup camera satisfa...</td>\n",
       "    </tr>\n",
       "    <tr>\n",
       "      <th>20368</th>\n",
       "      <td>5168</td>\n",
       "      <td>4</td>\n",
       "      <td>I've bought this for my parents, overall phone...</td>\n",
       "      <td>ive bought this for my parents overall phone i...</td>\n",
       "      <td>ive bought this for my parents overall phone i...</td>\n",
       "    </tr>\n",
       "    <tr>\n",
       "      <th>20369</th>\n",
       "      <td>5169</td>\n",
       "      <td>5</td>\n",
       "      <td>Very good mobile. I love thish phone. Really g...</td>\n",
       "      <td>very good mobile i love thish phone really goo...</td>\n",
       "      <td>very good mobile i love thish phone really goo...</td>\n",
       "    </tr>\n",
       "  </tbody>\n",
       "</table>\n",
       "</div>"
      ],
      "text/plain": [
       "       Unnamed: 0  Number of Stars  \\\n",
       "20350        5150                4   \n",
       "20351        5151                4   \n",
       "20352        5152                3   \n",
       "20353        5153                5   \n",
       "20354        5154                3   \n",
       "20355        5155                4   \n",
       "20356        5156                5   \n",
       "20357        5157                4   \n",
       "20358        5158                5   \n",
       "20359        5159                5   \n",
       "20360        5160                5   \n",
       "20361        5161                4   \n",
       "20362        5162                5   \n",
       "20363        5163                5   \n",
       "20364        5164                3   \n",
       "20365        5165                5   \n",
       "20366        5166                5   \n",
       "20367        5167                5   \n",
       "20368        5168                4   \n",
       "20369        5169                5   \n",
       "\n",
       "                                             Full Review  \\\n",
       "20350  Very good product everything is fine camera is...   \n",
       "20351  Hi guys I here give u a complete review of thi...   \n",
       "20352  Based on the usage for about 3 weeks, I am wri...   \n",
       "20353  Love this phone😍😍😍 I bought this for my maa as...   \n",
       "20354  Good phone. Budget friendly.\\nBest in this bud...   \n",
       "20355  Nice product fits in your budget segment.\\n1) ...   \n",
       "20356  Camera- Average but works fine. Back camera is...   \n",
       "20357  Perfect phone\\n1. Amezing camera\\n2. Good perf...   \n",
       "20358  Good quality of screen. Camera is average. Bat...   \n",
       "20359  Best mobile in this price range. Camera would ...   \n",
       "20360  Thankyou Redmi,\\n\\nFeeling Lucky to buy this p...   \n",
       "20361  Good mobile ...I loved it and Thank you flipka...   \n",
       "20362  It is an good phone ever i see, but it have on...   \n",
       "20363  Nice very super product and nice performance\\n...   \n",
       "20364  Writing this review after 4 months of purchase...   \n",
       "20365  To be completely honest this is not the best p...   \n",
       "20366  Mi 9i is good no loss it is very good mobile a...   \n",
       "20367  Nice mobile, good battery backup, camera satis...   \n",
       "20368  I've bought this for my parents, overall phone...   \n",
       "20369  Very good mobile. I love thish phone. Really g...   \n",
       "\n",
       "                                      cleaned_FullReview  \\\n",
       "20350  very good product everything is fine camera is...   \n",
       "20351  hi guys i here give u a complete review of thi...   \n",
       "20352  based on the usage for about  weeks i am writi...   \n",
       "20353  love this phone😍😍😍 i bought this for my maa as...   \n",
       "20354  good phone budget friendly\\nbest in this budge...   \n",
       "20355  nice product fits in your budget segment\\n bat...   \n",
       "20356  camera average but works fine back camera is g...   \n",
       "20357  perfect phone\\n amezing camera\\n good performa...   \n",
       "20358  good quality of screen camera is average batte...   \n",
       "20359  best mobile in this price range camera would b...   \n",
       "20360  thankyou redmi\\n\\nfeeling lucky to buy this pr...   \n",
       "20361  good mobile i loved it and thank you flipkart ...   \n",
       "20362  it is an good phone ever i see but it have onl...   \n",
       "20363  nice very super product and nice performance\\n...   \n",
       "20364  writing this review after  months of purchase ...   \n",
       "20365  to be completely honest this is not the best p...   \n",
       "20366  mi  is good no loss it is very good mobile any...   \n",
       "20367  nice mobile good battery backup camera satisfa...   \n",
       "20368  ive bought this for my parents overall phone i...   \n",
       "20369  very good mobile i love thish phone really goo...   \n",
       "\n",
       "                                    cleaned_review_final  \n",
       "20350  very good product everything is fine camera is...  \n",
       "20351  hi guys i here give u a complete review of thi...  \n",
       "20352  based on the usage for about  weeks i am writi...  \n",
       "20353  love this phone i bought this for my maa as a ...  \n",
       "20354  good phone budget friendlybest in this budgetd...  \n",
       "20355  nice product fits in your budget segment batte...  \n",
       "20356  camera average but works fine back camera is g...  \n",
       "20357  perfect phone amezing camera good performance ...  \n",
       "20358  good quality of screen camera is average batte...  \n",
       "20359  best mobile in this price range camera would b...  \n",
       "20360  thankyou redmifeeling lucky to buy this produc...  \n",
       "20361  good mobile i loved it and thank you flipkart ...  \n",
       "20362  it is an good phone ever i see but it have onl...  \n",
       "20363  nice very super product and nice performanceba...  \n",
       "20364  writing this review after  months of purchase ...  \n",
       "20365  to be completely honest this is not the best p...  \n",
       "20366  mi  is good no loss it is very good mobile any...  \n",
       "20367  nice mobile good battery backup camera satisfa...  \n",
       "20368  ive bought this for my parents overall phone i...  \n",
       "20369  very good mobile i love thish phone really goo...  "
      ]
     },
     "execution_count": 48,
     "metadata": {},
     "output_type": "execute_result"
    }
   ],
   "source": [
    "df.tail(20)"
   ]
  },
  {
   "cell_type": "markdown",
   "metadata": {},
   "source": [
    "# Model building"
   ]
  },
  {
   "cell_type": "code",
   "execution_count": 56,
   "metadata": {},
   "outputs": [],
   "source": [
    "from sklearn.model_selection import train_test_split\n",
    "from sklearn.feature_extraction.text import TfidfVectorizer\n",
    "from sklearn.metrics import accuracy_score,classification_report,confusion_matrix\n",
    "from sklearn.svm import LinearSVC"
   ]
  },
  {
   "cell_type": "code",
   "execution_count": null,
   "metadata": {},
   "outputs": [],
   "source": [
    "#splitting of data"
   ]
  },
  {
   "cell_type": "code",
   "execution_count": 51,
   "metadata": {},
   "outputs": [],
   "source": [
    "x=df['cleaned_review_final']\n",
    "y=df['Number of Stars']"
   ]
  },
  {
   "cell_type": "code",
   "execution_count": 53,
   "metadata": {},
   "outputs": [
    {
     "data": {
      "text/plain": [
       "0                             battery problam no bakap\n",
       "1    very very best product and combo pack super sa...\n",
       "2    superrrrrrr mobiles awesome i kall you now its...\n",
       "3    key quality not good type  or input tuch  so b...\n",
       "4         not nice in battery switch off any time to s\n",
       "Name: cleaned_review_final, dtype: object"
      ]
     },
     "execution_count": 53,
     "metadata": {},
     "output_type": "execute_result"
    }
   ],
   "source": [
    "x.head()"
   ]
  },
  {
   "cell_type": "code",
   "execution_count": 54,
   "metadata": {},
   "outputs": [
    {
     "data": {
      "text/plain": [
       "0    1\n",
       "1    5\n",
       "2    5\n",
       "3    1\n",
       "4    1\n",
       "Name: Number of Stars, dtype: int64"
      ]
     },
     "execution_count": 54,
     "metadata": {},
     "output_type": "execute_result"
    }
   ],
   "source": [
    "y.head()"
   ]
  },
  {
   "cell_type": "code",
   "execution_count": 55,
   "metadata": {},
   "outputs": [],
   "source": [
    "x_train,x_test,y_train,y_test=train_test_split(x,y,test_size=0.20,random_state=0)"
   ]
  },
  {
   "cell_type": "markdown",
   "metadata": {},
   "source": [
    "# Creating Pipeline"
   ]
  },
  {
   "cell_type": "code",
   "execution_count": 59,
   "metadata": {},
   "outputs": [],
   "source": [
    "tvec=TfidfVectorizer()\n",
    "clf2=LinearSVC()\n",
    "from sklearn.pipeline import Pipeline"
   ]
  },
  {
   "cell_type": "code",
   "execution_count": 61,
   "metadata": {},
   "outputs": [
    {
     "name": "stdout",
     "output_type": "stream",
     "text": [
      "[[ 441    0    3    0    0]\n",
      " [   0   59    0    0    0]\n",
      " [   0    0  340    0    0]\n",
      " [   0    0    0  755    0]\n",
      " [   8    0   23   55 2390]]\n",
      "0.978154148257241\n"
     ]
    }
   ],
   "source": [
    "model=Pipeline([('vectorizer',tvec),('classifier',clf2)])\n",
    "model.fit(x_train,y_train)\n",
    "\n",
    "pred=model.predict(x_test)\n",
    "print(confusion_matrix(pred,y_test))\n",
    "print(accuracy_score(pred,y_test))"
   ]
  },
  {
   "cell_type": "markdown",
   "metadata": {},
   "source": [
    "accuracy score was found to be 97.8 percent"
   ]
  },
  {
   "cell_type": "code",
   "execution_count": 64,
   "metadata": {},
   "outputs": [
    {
     "name": "stdout",
     "output_type": "stream",
     "text": [
      "              precision    recall  f1-score   support\n",
      "\n",
      "           1       0.98      0.99      0.99       444\n",
      "           2       1.00      1.00      1.00        59\n",
      "           3       0.93      1.00      0.96       340\n",
      "           4       0.93      1.00      0.96       755\n",
      "           5       1.00      0.97      0.98      2476\n",
      "\n",
      "    accuracy                           0.98      4074\n",
      "   macro avg       0.97      0.99      0.98      4074\n",
      "weighted avg       0.98      0.98      0.98      4074\n",
      "\n"
     ]
    }
   ],
   "source": [
    "print(classification_report(pred,y_test))"
   ]
  },
  {
   "cell_type": "markdown",
   "metadata": {},
   "source": [
    "# Testing the model on a new review"
   ]
  },
  {
   "cell_type": "code",
   "execution_count": 66,
   "metadata": {},
   "outputs": [
    {
     "name": "stdout",
     "output_type": "stream",
     "text": [
      "[1]\n"
     ]
    }
   ],
   "source": [
    "#testing the model on new review\n",
    "example=['pathetic product']\n",
    "result=model.predict(example)\n",
    "print(result)"
   ]
  },
  {
   "cell_type": "code",
   "execution_count": 67,
   "metadata": {},
   "outputs": [
    {
     "name": "stdout",
     "output_type": "stream",
     "text": [
      "[5]\n"
     ]
    }
   ],
   "source": [
    "example2=['delighted with the product']\n",
    "result=model.predict(example2)\n",
    "print(result)"
   ]
  },
  {
   "cell_type": "code",
   "execution_count": 68,
   "metadata": {},
   "outputs": [
    {
     "name": "stdout",
     "output_type": "stream",
     "text": [
      "[3]\n"
     ]
    }
   ],
   "source": [
    "example3=['average product']\n",
    "result=model.predict(example3)\n",
    "print(result)"
   ]
  },
  {
   "cell_type": "markdown",
   "metadata": {},
   "source": [
    "# saving the model"
   ]
  },
  {
   "cell_type": "code",
   "execution_count": 69,
   "metadata": {},
   "outputs": [],
   "source": [
    "import joblib"
   ]
  },
  {
   "cell_type": "code",
   "execution_count": 70,
   "metadata": {},
   "outputs": [],
   "source": [
    "filename='ratingmodel.pkl'"
   ]
  },
  {
   "cell_type": "code",
   "execution_count": 71,
   "metadata": {},
   "outputs": [
    {
     "data": {
      "text/plain": [
       "['ratingmodel.pkl']"
      ]
     },
     "execution_count": 71,
     "metadata": {},
     "output_type": "execute_result"
    }
   ],
   "source": [
    "joblib.dump(model,'ratingmodel.pkl')"
   ]
  },
  {
   "cell_type": "code",
   "execution_count": null,
   "metadata": {},
   "outputs": [],
   "source": []
  }
 ],
 "metadata": {
  "kernelspec": {
   "display_name": "Python 3",
   "language": "python",
   "name": "python3"
  },
  "language_info": {
   "codemirror_mode": {
    "name": "ipython",
    "version": 3
   },
   "file_extension": ".py",
   "mimetype": "text/x-python",
   "name": "python",
   "nbconvert_exporter": "python",
   "pygments_lexer": "ipython3",
   "version": "3.8.5"
  }
 },
 "nbformat": 4,
 "nbformat_minor": 4
}
