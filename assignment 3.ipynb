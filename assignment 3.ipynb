{
 "cells": [
  {
   "cell_type": "code",
   "execution_count": 4,
   "metadata": {},
   "outputs": [],
   "source": [
    "#import all the required libraries\n",
    "import pandas as pd\n",
    "import selenium\n",
    "from selenium import webdriver\n",
    "import time\n",
    "from selenium.common.exceptions import StaleElementReferenceException, NoSuchElementException"
   ]
  },
  {
   "cell_type": "markdown",
   "metadata": {},
   "source": [
    "# Q1"
   ]
  },
  {
   "cell_type": "code",
   "execution_count": 3,
   "metadata": {},
   "outputs": [],
   "source": [
    "driver=webdriver.Chrome(\"chromedriver.exe\") \n",
    "time.sleep(5)\n",
    "url = \"https://www.amazon.in\"\n",
    "driver.get(url)"
   ]
  },
  {
   "cell_type": "code",
   "execution_count": 11,
   "metadata": {},
   "outputs": [
    {
     "name": "stdout",
     "output_type": "stream",
     "text": [
      "Enter the product you want to search:guitar\n"
     ]
    }
   ],
   "source": [
    "user_input=input('Enter the product you want to search:')"
   ]
  },
  {
   "cell_type": "code",
   "execution_count": 12,
   "metadata": {},
   "outputs": [],
   "source": [
    "search_bar=driver.find_element_by_id(\"twotabsearchtextbox\")\n",
    "search_bar.clear()\n",
    "search_bar.send_keys(user_input)\n",
    "search_button=driver.find_element_by_id(\"nav-search-submit-button\")\n",
    "search_button.click()"
   ]
  },
  {
   "cell_type": "code",
   "execution_count": 14,
   "metadata": {},
   "outputs": [],
   "source": [
    "#creating the empty list\n",
    "brand=[]"
   ]
  },
  {
   "cell_type": "code",
   "execution_count": 34,
   "metadata": {},
   "outputs": [],
   "source": [
    "for page in range(1,7):#for loop for scrapping 7 page\n",
    "    brands=driver.find_elements_by_xpath('//h2[@class=\"a-size-mini a-spacing-none a-color-base s-line-clamp-4\"]')#scraping brands name by class name='_2WkVRV'\n",
    "    for i in brands:\n",
    "        brand.append(i.text)#appending the text in Brand list \n",
    "    nxt_button=driver.find_elements_by_xpath(\"//li[@class='a-last']\")#scraping the list of buttons from the page\n",
    "   "
   ]
  },
  {
   "cell_type": "code",
   "execution_count": 35,
   "metadata": {},
   "outputs": [
    {
     "data": {
      "text/html": [
       "<div>\n",
       "<style scoped>\n",
       "    .dataframe tbody tr th:only-of-type {\n",
       "        vertical-align: middle;\n",
       "    }\n",
       "\n",
       "    .dataframe tbody tr th {\n",
       "        vertical-align: top;\n",
       "    }\n",
       "\n",
       "    .dataframe thead th {\n",
       "        text-align: right;\n",
       "    }\n",
       "</style>\n",
       "<table border=\"1\" class=\"dataframe\">\n",
       "  <thead>\n",
       "    <tr style=\"text-align: right;\">\n",
       "      <th></th>\n",
       "      <th>products</th>\n",
       "    </tr>\n",
       "  </thead>\n",
       "  <tbody>\n",
       "    <tr>\n",
       "      <th>0</th>\n",
       "      <td>JUAREZ Arpeggio 39 Inch Acoustic Guitar Kit, S...</td>\n",
       "    </tr>\n",
       "    <tr>\n",
       "      <th>1</th>\n",
       "      <td>GUITAR BRO - COMBO (Blue Acoustic Guitar for B...</td>\n",
       "    </tr>\n",
       "    <tr>\n",
       "      <th>2</th>\n",
       "      <td>GUITAR BRO - Guitar Learning Combo (30 Day Lea...</td>\n",
       "    </tr>\n",
       "    <tr>\n",
       "      <th>3</th>\n",
       "      <td>Vrk Guitar 4-String Acoustic Guitar Musical In...</td>\n",
       "    </tr>\n",
       "    <tr>\n",
       "      <th>4</th>\n",
       "      <td>Blueberry 38C IN TrussRod Acoustic Guitar Kit ...</td>\n",
       "    </tr>\n",
       "    <tr>\n",
       "      <th>...</th>\n",
       "      <td>...</td>\n",
       "    </tr>\n",
       "    <tr>\n",
       "      <th>939</th>\n",
       "      <td>Luxansa 4-String Musical Acoustic Guitar Toy F...</td>\n",
       "    </tr>\n",
       "    <tr>\n",
       "      <th>940</th>\n",
       "      <td>Guitar Allen Wrench, Guitar Truss Rod Wrench, ...</td>\n",
       "    </tr>\n",
       "    <tr>\n",
       "      <th>941</th>\n",
       "      <td>Plastic Wear-Resistent Binding Strips, Guitar ...</td>\n",
       "    </tr>\n",
       "    <tr>\n",
       "      <th>942</th>\n",
       "      <td>DEVICE OF URBAN INFOTECH Tuning Peg Silver for...</td>\n",
       "    </tr>\n",
       "    <tr>\n",
       "      <th>943</th>\n",
       "      <td>DEVICE OF URBAN INFOTECH Tuning Peg Silver for...</td>\n",
       "    </tr>\n",
       "  </tbody>\n",
       "</table>\n",
       "<p>944 rows × 1 columns</p>\n",
       "</div>"
      ],
      "text/plain": [
       "                                              products\n",
       "0    JUAREZ Arpeggio 39 Inch Acoustic Guitar Kit, S...\n",
       "1    GUITAR BRO - COMBO (Blue Acoustic Guitar for B...\n",
       "2    GUITAR BRO - Guitar Learning Combo (30 Day Lea...\n",
       "3    Vrk Guitar 4-String Acoustic Guitar Musical In...\n",
       "4    Blueberry 38C IN TrussRod Acoustic Guitar Kit ...\n",
       "..                                                 ...\n",
       "939  Luxansa 4-String Musical Acoustic Guitar Toy F...\n",
       "940  Guitar Allen Wrench, Guitar Truss Rod Wrench, ...\n",
       "941  Plastic Wear-Resistent Binding Strips, Guitar ...\n",
       "942  DEVICE OF URBAN INFOTECH Tuning Peg Silver for...\n",
       "943  DEVICE OF URBAN INFOTECH Tuning Peg Silver for...\n",
       "\n",
       "[944 rows x 1 columns]"
      ]
     },
     "execution_count": 35,
     "metadata": {},
     "output_type": "execute_result"
    }
   ],
   "source": [
    "#creating a dataframe\n",
    "df=pd.DataFrame({'products':brand})\n",
    "df"
   ]
  },
  {
   "cell_type": "markdown",
   "metadata": {},
   "source": [
    "# Q2"
   ]
  },
  {
   "cell_type": "code",
   "execution_count": 5,
   "metadata": {},
   "outputs": [],
   "source": [
    "driver=webdriver.Chrome(\"chromedriver.exe\") \n",
    "time.sleep(5)\n",
    "url = \"https://www.amazon.in\"\n",
    "driver.get(url)"
   ]
  },
  {
   "cell_type": "code",
   "execution_count": 6,
   "metadata": {},
   "outputs": [
    {
     "name": "stdout",
     "output_type": "stream",
     "text": [
      "Enter the product you want to search:guitar\n"
     ]
    }
   ],
   "source": [
    "user_input=input('Enter the product you want to search:')"
   ]
  },
  {
   "cell_type": "code",
   "execution_count": 7,
   "metadata": {},
   "outputs": [],
   "source": [
    "search_bar=driver.find_element_by_id(\"twotabsearchtextbox\")\n",
    "search_bar.clear()\n",
    "search_bar.send_keys(user_input)\n",
    "search_button=driver.find_element_by_id(\"nav-search-submit-button\")\n",
    "search_button.click()"
   ]
  },
  {
   "cell_type": "code",
   "execution_count": 9,
   "metadata": {},
   "outputs": [],
   "source": [
    "# scrape all product urls\n",
    "product_urls = []\n",
    "start=0\n",
    "end=3\n",
    "for page in range(start,end):     #for loop for scrapping 3 page\n",
    "    url=driver.find_elements_by_xpath('//a[@class=\"a-link-normal a-text-normal\"]')       #scraping urls\n",
    "    for i in url:\n",
    "        product_urls.append(i.get_attribute(\"href\"))                        #appending the urls in product_urls list\n",
    "    nxt_button=driver.find_element_by_xpath(\"//li[@class='a-last']//a\")     #scraping the list of buttons from the page\n",
    "    nxt_button.click()\n",
    "    time.sleep(2)"
   ]
  },
  {
   "cell_type": "code",
   "execution_count": 10,
   "metadata": {},
   "outputs": [],
   "source": [
    "#creating the empty list\n",
    "Brand=[]\n",
    "Name=[]\n",
    "Rating=[]\n",
    "no_of_ratings=[]\n",
    "Price=[]\n",
    "Return=[]\n",
    "expected_delivery=[]\n",
    "Availability=[]\n",
    "Other_Details=[]"
   ]
  },
  {
   "cell_type": "code",
   "execution_count": 11,
   "metadata": {},
   "outputs": [
    {
     "data": {
      "text/html": [
       "<div>\n",
       "<style scoped>\n",
       "    .dataframe tbody tr th:only-of-type {\n",
       "        vertical-align: middle;\n",
       "    }\n",
       "\n",
       "    .dataframe tbody tr th {\n",
       "        vertical-align: top;\n",
       "    }\n",
       "\n",
       "    .dataframe thead th {\n",
       "        text-align: right;\n",
       "    }\n",
       "</style>\n",
       "<table border=\"1\" class=\"dataframe\">\n",
       "  <thead>\n",
       "    <tr style=\"text-align: right;\">\n",
       "      <th></th>\n",
       "      <th>Brand</th>\n",
       "      <th>Name</th>\n",
       "      <th>Rating</th>\n",
       "      <th>No. of ratings</th>\n",
       "      <th>Price</th>\n",
       "      <th>Return/Exchange</th>\n",
       "      <th>Expected Delivery</th>\n",
       "      <th>Availability</th>\n",
       "      <th>Other Details</th>\n",
       "      <th>URL</th>\n",
       "    </tr>\n",
       "  </thead>\n",
       "  <tbody>\n",
       "    <tr>\n",
       "      <th>0</th>\n",
       "      <td>Visit the Kadence Store</td>\n",
       "      <td>Kadence Frontier Jumbo Semi Acoustic Guitar Wi...</td>\n",
       "      <td>4 out of 5</td>\n",
       "      <td>453 global ratings</td>\n",
       "      <td>₹ 6,999.00</td>\n",
       "      <td>Pay on Delivery</td>\n",
       "      <td>-</td>\n",
       "      <td>In stock.</td>\n",
       "      <td>QUALITY STRINGS ---The surface is coated with ...</td>\n",
       "      <td>https://www.amazon.in/gp/slredirect/picassoRed...</td>\n",
       "    </tr>\n",
       "    <tr>\n",
       "      <th>1</th>\n",
       "      <td>Visit the Kadence Store</td>\n",
       "      <td>Kadence Frontier Series,Blue Acoustic Guitar W...</td>\n",
       "      <td>4 out of 5</td>\n",
       "      <td>238 global ratings</td>\n",
       "      <td>₹ 5,999.00</td>\n",
       "      <td>Pay on Delivery</td>\n",
       "      <td>-</td>\n",
       "      <td>In stock.</td>\n",
       "      <td>Product Type : Acoustic Guitar\\nBrand:Kadence,...</td>\n",
       "      <td>https://www.amazon.in/gp/slredirect/picassoRed...</td>\n",
       "    </tr>\n",
       "    <tr>\n",
       "      <th>2</th>\n",
       "      <td>Visit the Kadence Store</td>\n",
       "      <td>Kadence Slowhand Premium Jumbo Size Semi Acous...</td>\n",
       "      <td>4.3 out of 5</td>\n",
       "      <td>129 global ratings</td>\n",
       "      <td>₹ 10,999.00</td>\n",
       "      <td>Pay on Delivery</td>\n",
       "      <td>-</td>\n",
       "      <td>In stock.</td>\n",
       "      <td>-</td>\n",
       "      <td>https://www.amazon.in/gp/slredirect/picassoRed...</td>\n",
       "    </tr>\n",
       "    <tr>\n",
       "      <th>3</th>\n",
       "      <td>Visit the Guitar Bro Store</td>\n",
       "      <td>GUITAR BRO - Guitar Learning Combo (30 Day Lea...</td>\n",
       "      <td>2.4 out of 5</td>\n",
       "      <td>8 global ratings</td>\n",
       "      <td>₹ 2,499.00</td>\n",
       "      <td>7 Days Replacement</td>\n",
       "      <td>-</td>\n",
       "      <td>In stock.</td>\n",
       "      <td>30 Day Learning Kit\\nAcoustic Guitars Accessor...</td>\n",
       "      <td>https://www.amazon.in/gp/slredirect/picassoRed...</td>\n",
       "    </tr>\n",
       "    <tr>\n",
       "      <th>4</th>\n",
       "      <td>Visit the JUAREZ Store</td>\n",
       "      <td>Juârez Acoustic Guitar, 38 Inch Cutaway, 038C ...</td>\n",
       "      <td>3.9 out of 5</td>\n",
       "      <td>9,803 global ratings</td>\n",
       "      <td>₹ 2,499.00</td>\n",
       "      <td>Pay on Delivery</td>\n",
       "      <td>-</td>\n",
       "      <td>In stock.</td>\n",
       "      <td>Black Glossy Finish, Number of Frets: 18, Acou...</td>\n",
       "      <td>https://www.amazon.in/Juarez-Acoustic-Cutaway-...</td>\n",
       "    </tr>\n",
       "  </tbody>\n",
       "</table>\n",
       "</div>"
      ],
      "text/plain": [
       "                        Brand  \\\n",
       "0     Visit the Kadence Store   \n",
       "1     Visit the Kadence Store   \n",
       "2     Visit the Kadence Store   \n",
       "3  Visit the Guitar Bro Store   \n",
       "4      Visit the JUAREZ Store   \n",
       "\n",
       "                                                Name        Rating  \\\n",
       "0  Kadence Frontier Jumbo Semi Acoustic Guitar Wi...    4 out of 5   \n",
       "1  Kadence Frontier Series,Blue Acoustic Guitar W...    4 out of 5   \n",
       "2  Kadence Slowhand Premium Jumbo Size Semi Acous...  4.3 out of 5   \n",
       "3  GUITAR BRO - Guitar Learning Combo (30 Day Lea...  2.4 out of 5   \n",
       "4  Juârez Acoustic Guitar, 38 Inch Cutaway, 038C ...  3.9 out of 5   \n",
       "\n",
       "         No. of ratings        Price     Return/Exchange Expected Delivery  \\\n",
       "0    453 global ratings   ₹ 6,999.00     Pay on Delivery                 -   \n",
       "1    238 global ratings   ₹ 5,999.00     Pay on Delivery                 -   \n",
       "2    129 global ratings  ₹ 10,999.00     Pay on Delivery                 -   \n",
       "3      8 global ratings   ₹ 2,499.00  7 Days Replacement                 -   \n",
       "4  9,803 global ratings   ₹ 2,499.00     Pay on Delivery                 -   \n",
       "\n",
       "  Availability                                      Other Details  \\\n",
       "0    In stock.  QUALITY STRINGS ---The surface is coated with ...   \n",
       "1    In stock.  Product Type : Acoustic Guitar\\nBrand:Kadence,...   \n",
       "2    In stock.                                                  -   \n",
       "3    In stock.  30 Day Learning Kit\\nAcoustic Guitars Accessor...   \n",
       "4    In stock.  Black Glossy Finish, Number of Frets: 18, Acou...   \n",
       "\n",
       "                                                 URL  \n",
       "0  https://www.amazon.in/gp/slredirect/picassoRed...  \n",
       "1  https://www.amazon.in/gp/slredirect/picassoRed...  \n",
       "2  https://www.amazon.in/gp/slredirect/picassoRed...  \n",
       "3  https://www.amazon.in/gp/slredirect/picassoRed...  \n",
       "4  https://www.amazon.in/Juarez-Acoustic-Cutaway-...  "
      ]
     },
     "execution_count": 11,
     "metadata": {},
     "output_type": "execute_result"
    }
   ],
   "source": [
    "for url in product_urls:\n",
    "    driver.get(url)\n",
    "    time.sleep(2)\n",
    "    \n",
    "    # Extracting Brand from xpath\n",
    "    try:\n",
    "        brand = driver.find_element_by_xpath('//a[@id=\"bylineInfo\"]')      \n",
    "        Brand.append(brand.text)\n",
    "    except NoSuchElementException:\n",
    "        Brand.append('-')    \n",
    "\n",
    "\n",
    "    time.sleep(1)\n",
    "    # Extracting name from id\n",
    "    try:\n",
    "        name = driver.find_element_by_id('productTitle')      \n",
    "        Name.append(name.text)\n",
    "    except NoSuchElementException:\n",
    "        Name.append('-')\n",
    "\n",
    "\n",
    "    time.sleep(1)    \n",
    "    # Extracting Ratings from xpath    \n",
    "    try:\n",
    "        rating = driver.find_element_by_xpath('//span[@class=\"a-size-base a-nowrap\"]//span')  \n",
    "        Rating.append(rating.text)\n",
    "    except NoSuchElementException:\n",
    "        Rating.append('-')\n",
    "\n",
    "\n",
    "    time.sleep(1)\n",
    "    # Extracting No of Ratings from xpath\n",
    "    try:\n",
    "        no_rating = driver.find_element_by_xpath('//span[@class=\"a-size-base a-color-secondary\"]')  \n",
    "        no_of_ratings.append(no_rating.text)\n",
    "    except NoSuchElementException:\n",
    "        no_of_ratings.append('-')\n",
    "\n",
    "\n",
    "    time.sleep(1)\n",
    "    # Extracting price from xpath    \n",
    "    try:\n",
    "        price = driver.find_element_by_xpath('//td[@class=\"a-span12\"]')  \n",
    "        Price.append(price.text)\n",
    "    except NoSuchElementException:\n",
    "        Price.append('-')\n",
    "\n",
    "\n",
    "    time.sleep(1)\n",
    "    # Extracting Return from xpath\n",
    "    try:\n",
    "        return_ = driver.find_element_by_xpath('//a[@class=\"a-size-small a-link-normal a-text-normal\"]')  \n",
    "        Return.append(return_.text)\n",
    "    except NoSuchElementException:\n",
    "        Return.append('-')\n",
    "\n",
    "\n",
    "    time.sleep(1)\n",
    "    # Extracting expected_delivery from xpath\n",
    "    try:\n",
    "        exptd_dlvry= driver.find_element_by_xpath('//span[@class=\"a-color-error\"]')  \n",
    "        expected_delivery.append(exptd_dlvry.text)\n",
    "    except NoSuchElementException:\n",
    "         expected_delivery.append('-')\n",
    "\n",
    "\n",
    "    time.sleep(1)\n",
    "    # Extracting Availability from xpath         \n",
    "    try:\n",
    "        avl= driver.find_element_by_xpath('//span[@class=\"a-size-medium a-color-success\"]')  \n",
    "        Availability.append(avl.text)\n",
    "    except NoSuchElementException:\n",
    "        Availability.append('-')\n",
    "\n",
    "\n",
    "\n",
    "    time.sleep(1)\n",
    "    # Extracting Other Details from xpath    \n",
    "    try:\n",
    "        othr_dtls= driver.find_element_by_xpath('//ul[@class=\"a-unordered-list a-vertical a-spacing-mini\"]')  \n",
    "        Other_Details.append(othr_dtls.text)\n",
    "    except NoSuchElementException:\n",
    "        Other_Details.append('-')\n",
    "\n",
    "time.sleep(2)    \n",
    "# Make dataframe\n",
    "prod_df = pd.DataFrame({'Brand':Brand,'Name':Name,'Rating':Rating,'No. of ratings':no_of_ratings,'Price':Price,\n",
    "                        'Return/Exchange':Return,'Expected Delivery':expected_delivery,'Availability':Availability,\n",
    "                        'Other Details':Other_Details,'URL':product_urls})\n",
    "prod_df.head(5)   "
   ]
  },
  {
   "cell_type": "markdown",
   "metadata": {},
   "source": [
    "# Q3"
   ]
  },
  {
   "cell_type": "code",
   "execution_count": null,
   "metadata": {},
   "outputs": [],
   "source": [
    "driver=webdriver.Chrome(\"chromedriver.exe\") \n",
    "time.sleep(5)\n",
    "url = \"https://images.google.com/?gws_rd=ssl\"\n",
    "driver.get(url)"
   ]
  },
  {
   "cell_type": "code",
   "execution_count": null,
   "metadata": {},
   "outputs": [],
   "source": [
    "search_bar=driver.find_element_by_xpath('//input[@class=\"gLFyf gsfi\"]')    \n",
    "search_bar.send_keys('fruits')\n",
    "\n",
    "button=driver.find_element_by_xpath('//button[@class=\"Tg7LZd\"]')\n",
    "button.click()"
   ]
  }
 ],
 "metadata": {
  "kernelspec": {
   "display_name": "Python 3",
   "language": "python",
   "name": "python3"
  },
  "language_info": {
   "codemirror_mode": {
    "name": "ipython",
    "version": 3
   },
   "file_extension": ".py",
   "mimetype": "text/x-python",
   "name": "python",
   "nbconvert_exporter": "python",
   "pygments_lexer": "ipython3",
   "version": "3.8.5"
  }
 },
 "nbformat": 4,
 "nbformat_minor": 4
}
